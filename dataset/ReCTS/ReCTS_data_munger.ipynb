{
 "cells": [
  {
   "cell_type": "code",
   "execution_count": 8,
   "id": "31d6ec64",
   "metadata": {},
   "outputs": [],
   "source": [
    "import json\n",
    "import mmcv\n",
    "import matplotlib.pyplot as plt\n",
    "from mmocr.datasets.pipelines.crop import crop_img\n",
    "import random\n",
    "import os\n",
    "import numpy as np\n",
    "import shutil"
   ]
  },
  {
   "cell_type": "markdown",
   "id": "ca0832e1",
   "metadata": {},
   "source": [
    "# Train Val Split with Seed"
   ]
  },
  {
   "cell_type": "code",
   "execution_count": 2,
   "id": "f5cc414e",
   "metadata": {},
   "outputs": [
    {
     "name": "stdout",
     "output_type": "stream",
     "text": [
      "20001\n"
     ]
    }
   ],
   "source": [
    "# 20,001 images for train and val\n",
    "split = 0.8\n",
    "img_files = os.listdir('img/')\n",
    "print (len(img_files))\n",
    "np.random.seed(seed=42)\n",
    "img_arr = np.arange(len(img_files))\n",
    "np.random.shuffle(img_arr)\n",
    "num_train = int(split * len(img_arr))\n",
    "train_arr = img_arr[:num_train]\n",
    "val_arr = img_arr[num_train:]"
   ]
  },
  {
   "cell_type": "code",
   "execution_count": 3,
   "id": "783146ec",
   "metadata": {},
   "outputs": [
    {
     "name": "stdout",
     "output_type": "stream",
     "text": [
      "0.7978442231953948\n",
      "440027\n"
     ]
    }
   ],
   "source": [
    "total = len(os.listdir('line_str_parse/train/images')) + len(os.listdir('line_str_parse/val/images'))\n",
    "print (len(os.listdir('line_str_parse/train/images')) / total)\n",
    "print (total)"
   ]
  },
  {
   "cell_type": "markdown",
   "id": "c0ba20e6",
   "metadata": {},
   "source": [
    "## Convert Data to Line Str Parse Format"
   ]
  },
  {
   "cell_type": "code",
   "execution_count": 70,
   "id": "a4c6d40d",
   "metadata": {},
   "outputs": [
    {
     "name": "stdout",
     "output_type": "stream",
     "text": [
      "done\n"
     ]
    }
   ],
   "source": [
    "gt_jsons = os.listdir('gt')\n",
    "train_gt_list, val_gt_list = [], []\n",
    "new_dir = \"line_str_parse/\"\n",
    "mmcv.mkdir_or_exist(new_dir)\n",
    "mmcv.mkdir_or_exist(new_dir+'train/')\n",
    "mmcv.mkdir_or_exist(new_dir+'val/')\n",
    "\n",
    "for json_file in gt_jsons:\n",
    "    gt = json.load(open(os.path.join('gt', json_file)))\n",
    "    img_file = json_file.replace('.json', '.jpg')\n",
    "    img = mmcv.imread(os.path.join('img', img_file))\n",
    "    num_of_label = 0    \n",
    "    \n",
    "    for item in gt['chars']:\n",
    "        ignore, text, points = item['ignore'], item['transcription'], item['points']\n",
    "        if ignore == 1:\n",
    "            continue\n",
    "        out = crop_img(img, points)\n",
    "        cropped_file_name = f'{img_file.strip(\".jpg\")}_{num_of_label}.jpg'\n",
    "        # split to train or val\n",
    "        sub_dir ='train' if img_files.index(img_file) in train_arr else 'val'\n",
    "        img_dir = os.path.join(new_dir, sub_dir, 'images')\n",
    "        mmcv.imwrite(out, f\"{img_dir}/{cropped_file_name}\")\n",
    "        num_of_label += 1\n",
    "        if sub_dir == 'train':\n",
    "            train_gt_list.append(f'{cropped_file_name} {text}' + \"\\n\")\n",
    "        else:\n",
    "            val_gt_list.append(f'{cropped_file_name} {text}' + \"\\n\")\n",
    "    \n",
    "f = open(f'{new_dir}/train/labels.txt', 'w')\n",
    "f.writelines(train_gt_list)\n",
    "f.close()\n",
    "f = open(f'{new_dir}/val/labels.txt', 'w')\n",
    "f.writelines(val_gt_list)\n",
    "f.close()\n",
    "print ('done')"
   ]
  },
  {
   "cell_type": "markdown",
   "id": "e4715dd9",
   "metadata": {},
   "source": [
    "## Random Check annotations"
   ]
  },
  {
   "cell_type": "code",
   "execution_count": 76,
   "id": "71d35d8a",
   "metadata": {},
   "outputs": [],
   "source": [
    "f2 = open('line_str_parse/train/labels.txt')\n",
    "gt_dict2 = {}\n",
    "for line in f2:\n",
    "    img, ans = line.replace('\\n', '').split(' ')\n",
    "    gt_dict2[img] = ans\n",
    "f2 = open('line_str_parse/val/labels.txt')\n",
    "for line in f2:\n",
    "    img, ans = line.replace('\\n', '').split(' ')\n",
    "    gt_dict2[img] = ans"
   ]
  },
  {
   "cell_type": "code",
   "execution_count": 45,
   "id": "ed11a2d3",
   "metadata": {},
   "outputs": [
    {
     "name": "stdout",
     "output_type": "stream",
     "text": [
      "GT: 7\n"
     ]
    },
    {
     "data": {
      "image/png": "[encoded data removed]",
      "text/plain": [
       "<Figure size 432x288 with 1 Axes>"
      ]
     },
     "metadata": {
      "needs_background": "light"
     },
     "output_type": "display_data"
    }
   ],
   "source": [
    "x = random.randint(0, len(gt_dict))\n",
    "img_id = list(gt_dict.keys())[x]\n",
    "test_img = mmcv.imread(f'{new_dir}images/{img_id}')\n",
    "print (f'GT: {gt_dict[img_id]}')\n",
    "plt.imshow(mmcv.bgr2rgb(test_img))\n",
    "plt.show()"
   ]
  },
  {
   "cell_type": "markdown",
   "id": "178a9b8c",
   "metadata": {},
   "source": [
    "## Convert to LineJsonParser (Detection)"
   ]
  },
  {
   "cell_type": "code",
   "execution_count": 16,
   "id": "d353d13a",
   "metadata": {},
   "outputs": [
    {
     "name": "stdout",
     "output_type": "stream",
     "text": [
      "done\n"
     ]
    }
   ],
   "source": [
    "gt_jsons = os.listdir('gt')\n",
    "train_gt_line, val_gt_line = [], []\n",
    "new_dir = \"line_json_parse/\"\n",
    "mmcv.mkdir_or_exist(new_dir)\n",
    "mmcv.mkdir_or_exist(new_dir+'train/')\n",
    "mmcv.mkdir_or_exist(new_dir+'val/')\n",
    "\n",
    "train_lines, val_lines = [], []\n",
    "for json_file in gt_jsons:\n",
    "    gt = json.load(open(os.path.join('gt', json_file)))\n",
    "    img_file = json_file.replace('.json', '.jpg')\n",
    "    img = mmcv.imread(os.path.join('img', img_file))\n",
    "    h, w, c = img.shape\n",
    "    ann_list=[]\n",
    "    \n",
    "    for item in gt['chars']:\n",
    "        ignore, text, points = item['ignore'], item['transcription'], item['points']\n",
    "        x1, y1, x2, y2, x3, y3, x4, y4 = points\n",
    "        min_x, max_x = min(x1, x2, x3, x4), max(x1, x2, x3, x4)\n",
    "        min_y, max_y = min(y1, y2, y3 ,y4), max(y1, y2, y3, y4)\n",
    "        bbox = [min_x, min_y, max_x - min_x, max_y - min_y]\n",
    "#         # Visualize bbox crop\n",
    "#         bbox_img = img[min_y:max_y, min_x:max_x]\n",
    "#         plt.imshow(mmcv.bgr2rgb(bbox_img))\n",
    "#         plt.show()\n",
    "\n",
    "        ann = dict(\n",
    "            iscrowd=ignore,\n",
    "            category_id=1,\n",
    "            bbox=bbox,\n",
    "            segmentation=[points],            \n",
    "        )\n",
    "        ann_list.append(ann)\n",
    "    \n",
    "    line = dict(\n",
    "        file_name=img_file,\n",
    "        height=h,\n",
    "        width=w,\n",
    "        annotations=ann_list\n",
    "    )\n",
    "    if img_files.index(img_file) in train_arr:\n",
    "        train_lines.append(json.dumps(line) + '\\n')\n",
    "    else:\n",
    "        val_lines.append(json.dumps(line) + '\\n')\n",
    "    \n",
    "f = open(f'{new_dir}/train/labels.txt', 'w')\n",
    "f.writelines(train_lines)\n",
    "f.close()\n",
    "f = open(f'{new_dir}/val/labels.txt', 'w')\n",
    "f.writelines(val_lines)\n",
    "f.close()\n",
    "print ('done')"
   ]
  },
  {
   "cell_type": "code",
   "execution_count": 17,
   "id": "a71f0925",
   "metadata": {},
   "outputs": [],
   "source": [
    "f = open('line_json_parse/train/labels.txt')\n",
    "for item in f:\n",
    "    x = json.loads(item)\n",
    "    break"
   ]
  },
  {
   "cell_type": "code",
   "execution_count": 20,
   "id": "ab70a1dd",
   "metadata": {},
   "outputs": [
    {
     "name": "stdout",
     "output_type": "stream",
     "text": [
      "dict_keys(['file_name', 'height', 'width', 'annotations'])\n",
      "{'iscrowd': 0, 'category_id': 1, 'bbox': [861, 124, 143, 131], 'segmentation': [[861, 124, 1004, 124, 1004, 255, 861, 255]]}\n",
      "{'iscrowd': 0, 'category_id': 1, 'bbox': [734, 171, 117, 105], 'segmentation': [[734, 171, 851, 171, 851, 276, 734, 276]]}\n",
      "{'iscrowd': 0, 'category_id': 1, 'bbox': [619, 192, 112, 104], 'segmentation': [[619, 192, 731, 192, 731, 296, 619, 296]]}\n",
      "{'iscrowd': 0, 'category_id': 1, 'bbox': [555, 273, 64, 54], 'segmentation': [[555, 273, 619, 273, 619, 327, 555, 327]]}\n",
      "{'iscrowd': 0, 'category_id': 1, 'bbox': [555, 214, 64, 60], 'segmentation': [[555, 214, 619, 214, 619, 274, 555, 274]]}\n",
      "{'iscrowd': 0, 'category_id': 1, 'bbox': [462, 245, 92, 95], 'segmentation': [[462, 245, 554, 245, 554, 340, 462, 340]]}\n",
      "{'iscrowd': 0, 'category_id': 1, 'bbox': [367, 272, 88, 87], 'segmentation': [[367, 272, 455, 272, 455, 359, 367, 359]]}\n",
      "{'iscrowd': 0, 'category_id': 1, 'bbox': [288, 291, 76, 87], 'segmentation': [[288, 291, 364, 291, 364, 378, 288, 378]]}\n",
      "{'iscrowd': 0, 'category_id': 1, 'bbox': [219, 310, 65, 81], 'segmentation': [[219, 310, 284, 310, 284, 391, 219, 391]]}\n",
      "{'iscrowd': 0, 'category_id': 1, 'bbox': [172, 326, 18, 26], 'segmentation': [[172, 326, 190, 326, 190, 352, 172, 352]]}\n",
      "{'iscrowd': 0, 'category_id': 1, 'bbox': [151, 330, 19, 28], 'segmentation': [[151, 330, 170, 330, 170, 358, 151, 358]]}\n",
      "{'iscrowd': 0, 'category_id': 1, 'bbox': [134, 335, 21, 27], 'segmentation': [[134, 335, 155, 335, 155, 362, 134, 362]]}\n",
      "{'iscrowd': 0, 'category_id': 1, 'bbox': [115, 341, 18, 24], 'segmentation': [[115, 341, 133, 341, 133, 365, 115, 365]]}\n",
      "{'iscrowd': 0, 'category_id': 1, 'bbox': [98, 345, 18, 26], 'segmentation': [[98, 345, 116, 345, 116, 371, 98, 371]]}\n",
      "{'iscrowd': 0, 'category_id': 1, 'bbox': [57, 398, 68, 81], 'segmentation': [[57, 398, 125, 398, 125, 479, 57, 479]]}\n",
      "{'iscrowd': 0, 'category_id': 1, 'bbox': [20, 419, 39, 67], 'segmentation': [[20, 419, 59, 419, 59, 486, 20, 486]]}\n",
      "{'iscrowd': 0, 'category_id': 1, 'bbox': [165, 479, 9, 16], 'segmentation': [[165, 479, 174, 479, 174, 495, 165, 495]]}\n",
      "{'iscrowd': 0, 'category_id': 1, 'bbox': [158, 479, 9, 17], 'segmentation': [[158, 479, 167, 479, 167, 496, 158, 496]]}\n",
      "{'iscrowd': 0, 'category_id': 1, 'bbox': [151, 481, 8, 16], 'segmentation': [[151, 481, 159, 481, 159, 497, 151, 497]]}\n",
      "{'iscrowd': 0, 'category_id': 1, 'bbox': [146, 483, 8, 15], 'segmentation': [[146, 483, 154, 483, 154, 498, 146, 498]]}\n",
      "{'iscrowd': 0, 'category_id': 1, 'bbox': [138, 484, 9, 15], 'segmentation': [[138, 484, 147, 484, 147, 499, 138, 499]]}\n",
      "{'iscrowd': 0, 'category_id': 1, 'bbox': [133, 485, 8, 16], 'segmentation': [[133, 485, 141, 485, 141, 501, 133, 501]]}\n",
      "{'iscrowd': 0, 'category_id': 1, 'bbox': [127, 486, 8, 15], 'segmentation': [[127, 486, 135, 486, 135, 501, 127, 501]]}\n",
      "{'iscrowd': 0, 'category_id': 1, 'bbox': [121, 487, 8, 15], 'segmentation': [[121, 487, 129, 487, 129, 502, 121, 502]]}\n",
      "{'iscrowd': 0, 'category_id': 1, 'bbox': [114, 488, 8, 15], 'segmentation': [[114, 488, 122, 488, 122, 503, 114, 503]]}\n",
      "{'iscrowd': 0, 'category_id': 1, 'bbox': [108, 488, 8, 15], 'segmentation': [[108, 488, 116, 488, 116, 503, 108, 503]]}\n",
      "{'iscrowd': 0, 'category_id': 1, 'bbox': [105, 490, 6, 14], 'segmentation': [[105, 490, 111, 490, 111, 504, 105, 504]]}\n",
      "{'iscrowd': 0, 'category_id': 1, 'bbox': [96, 492, 9, 14], 'segmentation': [[96, 492, 105, 492, 105, 506, 96, 506]]}\n",
      "{'iscrowd': 0, 'category_id': 1, 'bbox': [86, 492, 12, 16], 'segmentation': [[86, 492, 98, 492, 98, 508, 86, 508]]}\n",
      "{'iscrowd': 0, 'category_id': 1, 'bbox': [75, 494, 10, 17], 'segmentation': [[75, 494, 85, 494, 85, 511, 75, 511]]}\n",
      "{'iscrowd': 0, 'category_id': 1, 'bbox': [64, 496, 11, 16], 'segmentation': [[64, 496, 75, 496, 75, 512, 64, 512]]}\n",
      "{'iscrowd': 0, 'category_id': 1, 'bbox': [53, 497, 12, 15], 'segmentation': [[53, 497, 65, 497, 65, 512, 53, 512]]}\n",
      "{'iscrowd': 0, 'category_id': 1, 'bbox': [41, 499, 11, 17], 'segmentation': [[41, 499, 52, 499, 52, 516, 41, 516]]}\n",
      "{'iscrowd': 0, 'category_id': 1, 'bbox': [31, 500, 10, 17], 'segmentation': [[31, 500, 41, 500, 41, 517, 31, 517]]}\n",
      "{'iscrowd': 0, 'category_id': 1, 'bbox': [24, 502, 10, 17], 'segmentation': [[24, 502, 34, 502, 34, 519, 24, 519]]}\n",
      "{'iscrowd': 0, 'category_id': 1, 'bbox': [11, 503, 12, 18], 'segmentation': [[11, 503, 23, 503, 23, 521, 11, 521]]}\n",
      "{'iscrowd': 0, 'category_id': 1, 'bbox': [2, 504, 11, 17], 'segmentation': [[2, 504, 13, 504, 13, 521, 2, 521]]}\n",
      "{'iscrowd': 0, 'category_id': 1, 'bbox': [858, 570, 17, 16], 'segmentation': [[858, 570, 875, 570, 875, 586, 858, 586]]}\n",
      "{'iscrowd': 0, 'category_id': 1, 'bbox': [843, 571, 15, 15], 'segmentation': [[843, 571, 858, 571, 858, 586, 843, 586]]}\n"
     ]
    }
   ],
   "source": [
    "print (x.keys())\n",
    "for i in x['annotations']:\n",
    "    print (i)"
   ]
  }
 ],
 "metadata": {
  "kernelspec": {
   "display_name": "Python 3",
   "language": "python",
   "name": "python3"
  },
  "language_info": {
   "codemirror_mode": {
    "name": "ipython",
    "version": 3
   },
   "file_extension": ".py",
   "mimetype": "text/x-python",
   "name": "python",
   "nbconvert_exporter": "python",
   "pygments_lexer": "ipython3",
   "version": "3.7.7"
  }
 },
 "nbformat": 4,
 "nbformat_minor": 5
}
